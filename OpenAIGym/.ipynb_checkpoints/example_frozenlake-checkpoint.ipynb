{
 "cells": [
  {
   "cell_type": "markdown",
   "metadata": {},
   "source": [
    "# Frozen Lake \n",
    "\n",
    "https://github.com/openai/gym/blob/master/gym/envs/toy_text/frozen_lake.py\n",
    "\n",
    "https://medium.com/swlh/introduction-to-reinforcement-learning-coding-q-learning-part-3-9778366a41c0\n",
    "\n",
    "https://www.analyticsvidhya.com/blog/2018/09/reinforcement-learning-model-based-planning-dynamic-programming/\n",
    "\n",
    "### What's in this notebook?\n",
    "\n",
    "I explore three different methods for solving the frozen lake problem. The methods are: 1) the Q-learn method, 2) the policy iteration method, and 3) the value iteration method. \n",
    "\n",
    "From what I can tell, the Q-learn method requires no prior knowledge of the environment, however, method (2,3) require complete knowledge of the environment.\n",
    "\n",
    "### Desription of Frozen Lake Problem\n",
    "\n",
    "S is the starting point, G is the goal, F is the solid ice where the agent can stand and H is the hole where if the agent goes, it falls down.\n",
    "\n",
    "For every state F, S, the agent gets 0 reward. In state H, the agent will die and upon reaching G, the agent gets +1 reward.\n",
    "\n",
    "\n",
    "The agent in the environment has four possible moves — Up, Down, Left and Right. We will be implementing one of the Reinforcement Learning techniques, Q-Learning, here. This environment will allow the agent to move accordingly. There could be a random action happening once every a few episodes — let’s say the agent is slipping in different directions because it is hard to walk on a frozen surface. Considering this situation, we need to allow some random movement at first, but eventually try to reduce its probability. This way we can correct the error caused by minimising the loss.\n",
    "\n",
    "Through some fiddling, it was found that if action = 0 (left), there is a 0.33 probability that you will go either up, left or down. This pattern is the same for the other 3 actions."
   ]
  },
  {
   "cell_type": "code",
   "execution_count": null,
   "metadata": {},
   "outputs": [],
   "source": [
    "import gym\n",
    "import numpy as np\n",
    "import time, pickle, os\n",
    "import matplotlib.pyplot as plt"
   ]
  },
  {
   "cell_type": "code",
   "execution_count": null,
   "metadata": {},
   "outputs": [],
   "source": [
    "# A quick run of the CartPole enviroment with random actions\n",
    "# prints out the observations\n",
    "env = gym.make(\"FrozenLake-v0\")\n",
    "for i_episode in range(10):\n",
    "    observation = env.reset()\n",
    "    for t in range(50):\n",
    "        env.render()\n",
    "        print(observation)\n",
    "        action = env.action_space.sample()\n",
    "        observation, reward, done, info = env.step(action)\n",
    "        if done:\n",
    "            print(\"Episode finished after {} timesteps\".format(t+1))\n",
    "            break\n",
    "env.close()"
   ]
  },
  {
   "cell_type": "markdown",
   "metadata": {},
   "source": [
    "## Solving the problem\n",
    "\n",
    "### Q - Learning Method\n",
    "\n",
    "Let's start off by importing some stuff and initialize the frozen lake environment. "
   ]
  },
  {
   "cell_type": "code",
   "execution_count": 77,
   "metadata": {},
   "outputs": [],
   "source": [
    "import gym\n",
    "import numpy as np\n",
    "import time, pickle, os\n",
    "\n",
    "env = gym.make('FrozenLake-v0')"
   ]
  },
  {
   "cell_type": "markdown",
   "metadata": {},
   "source": [
    "#### Initialize Variables\n",
    "\n",
    "Lines 7–12 initializes our variables. epsilon for the epsilon-greedy approach, gamma is the discount factor, max_episodes is the maximum amount of times we’ll run the game, max_steps is the maximum steps we’ll run for every episode and lr_rate is the learning rate.\n",
    "\n",
    "Line 14 initializes our Q-table as a 16x4 matrix filled with zeros. env.observation-space.n tells the total number of states in the game and env.action-space.n tells the total number of actions."
   ]
  },
  {
   "cell_type": "code",
   "execution_count": 89,
   "metadata": {},
   "outputs": [
    {
     "data": {
      "text/plain": [
       "array([[5.73048793e-01, 5.59616300e-01, 5.59504075e-01, 5.72987110e-01],\n",
       "       [1.09917639e-01, 5.57752138e-01, 1.28314171e-01, 5.78137847e-01],\n",
       "       [2.59454703e-01, 5.81706741e-01, 6.24270808e-01, 5.77904133e-01],\n",
       "       [1.18982232e-01, 4.97032686e-01, 8.96111026e-02, 6.12081782e-01],\n",
       "       [6.49526463e-01, 4.85349392e-01, 5.19606036e-01, 4.67573661e-01],\n",
       "       [0.00000000e+00, 0.00000000e+00, 0.00000000e+00, 0.00000000e+00],\n",
       "       [2.36658998e-02, 2.70072282e-02, 1.59793314e-01, 6.09304973e-07],\n",
       "       [0.00000000e+00, 0.00000000e+00, 0.00000000e+00, 0.00000000e+00],\n",
       "       [1.10875718e-01, 6.55010570e-01, 1.20795117e-01, 6.36114341e-01],\n",
       "       [2.83557149e-02, 7.69961313e-01, 6.67525397e-01, 1.58781434e-01],\n",
       "       [8.56357971e-01, 9.49981223e-01, 1.47332325e-01, 1.23018940e-01],\n",
       "       [0.00000000e+00, 0.00000000e+00, 0.00000000e+00, 0.00000000e+00],\n",
       "       [0.00000000e+00, 0.00000000e+00, 0.00000000e+00, 0.00000000e+00],\n",
       "       [1.57887232e-01, 1.57503101e-01, 8.22841818e-01, 1.43425922e-01],\n",
       "       [9.27849209e-01, 8.85564543e-01, 9.86300450e-01, 7.15660137e-01],\n",
       "       [0.00000000e+00, 0.00000000e+00, 0.00000000e+00, 0.00000000e+00]])"
      ]
     },
     "execution_count": 89,
     "metadata": {},
     "output_type": "execute_result"
    }
   ],
   "source": [
    "epsilon = 0.5 # should lower this once the model is trained\n",
    "total_episodes = 10000\n",
    "max_steps = 100\n",
    "\n",
    "lr_rate = 0.81\n",
    "gamma = 0.96\n",
    "\n",
    "# Q = np.zeros((env.observation_space.n, env.action_space.n))\n",
    "# or load it from a saved run\n",
    "Q = pickle.load( open( \"frozenLake_qTable.pkl\", \"rb\" ) )\n",
    "Q"
   ]
  },
  {
   "cell_type": "code",
   "execution_count": 90,
   "metadata": {},
   "outputs": [],
   "source": [
    "def choose_action(state):\n",
    "    action=0\n",
    "    if np.random.uniform(0, 1) < epsilon:\n",
    "        action = env.action_space.sample()\n",
    "        # print(\"Action random: \", action)\n",
    "    else:\n",
    "        action = np.argmax(Q[state, :])\n",
    "        # print(\"Action argmax: \", action)\n",
    "    return action\n",
    "\n",
    "def learn(state, state2, reward, action):\n",
    "    predict = Q[state, action]\n",
    "    target = reward + gamma * np.max(Q[state2, :])\n",
    "    Q[state, action] = Q[state, action] + lr_rate * (target - predict)"
   ]
  },
  {
   "cell_type": "markdown",
   "metadata": {},
   "source": [
    "**State** - Goes from $0-15$ where $0$ is S and $15$ is G.\n",
    "\n",
    "**Q-table** - Rows are states, columns are actions. Therefore, 16 states and 4 actions.\n",
    "\n",
    "**Action** - 0, 1, 2, 3 -> left, down, right, up"
   ]
  },
  {
   "cell_type": "code",
   "execution_count": 93,
   "metadata": {},
   "outputs": [
    {
     "name": "stdout",
     "output_type": "stream",
     "text": [
      "Q-Learn :: number of wins over 10000 episodes = 179\n",
      "\n",
      "Percentage Solved =  1.79 %\n"
     ]
    }
   ],
   "source": [
    "# Start\n",
    "tempval = 0\n",
    "temp_ep = []\n",
    "wins = 0\n",
    "for episode in range(total_episodes):\n",
    "    \n",
    "#     print(\"\\nEpisode: \", episode)\n",
    "    state = env.reset()\n",
    "    t = 0\n",
    "    \n",
    "    while t < max_steps:\n",
    "        # env.render()\n",
    "\n",
    "        action = choose_action(state) # select action\n",
    "        state2, reward, done, info = env.step(action) # given action, return enviroment variables \n",
    "        learn(state, state2, reward, action) # update Q table with results\n",
    "        state = state2 # state(n+1) = state(n)\n",
    "\n",
    "        t += 1\n",
    "        \n",
    "        if done and reward == 1.0: # if the goal is reached\n",
    "            wins += 1\n",
    "            # print(\"----------------------------------\")\n",
    "            # print(\"MADE IT TO THE GOAL!!!\")\n",
    "            # print(\"----------------------------------\")\n",
    "            temp_ep.append(episode)\n",
    "            # print(Q)\n",
    "        \n",
    "        if done: # either at the goal or in a hole\n",
    "            break\n",
    "\n",
    "        # time.sleep(0.1)\n",
    "\n",
    "# Check how many episodes were successful\n",
    "print(f'Q-Learn :: number of wins over {total_episodes} episodes = {wins}')\n",
    "    \n",
    "# print(Q)\n",
    "\n",
    "# Print the percentage of successful runs\n",
    "percentage_solved = len(temp_ep)/total_episodes*100\n",
    "print(\"\\nPercentage Solved = \", percentage_solved, \"%\")\n",
    "\n",
    "# save the learned Q matrix\n",
    "with open(\"frozenLake_qTable.pkl\", 'wb') as f:\n",
    "    pickle.dump(Q, f)"
   ]
  },
  {
   "cell_type": "markdown",
   "metadata": {},
   "source": [
    "### Policy Iteration in python\n",
    "\n",
    "https://www.analyticsvidhya.com/blog/2018/09/reinforcement-learning-model-based-planning-dynamic-programming/\n",
    "\n",
    "Let’s start with the policy evaluation step. The objective is to converge to the true value function for a given policy π. We will define a function that returns the required value function.\n",
    "\n",
    "**The value function** - The expected value of a state given an action for the state (v)/ given all the actions for the state (V).  "
   ]
  },
  {
   "cell_type": "code",
   "execution_count": 1,
   "metadata": {},
   "outputs": [],
   "source": [
    "def policy_evaluation(policy, environment, discount_factor=1.0, theta=1e-9, max_iterations=1e9):\n",
    "        # Number of evaluation iterations\n",
    "        evaluation_iterations = 1\n",
    "        # Initialize a value function for each state as zero\n",
    "        V = np.zeros(environment.nS)\n",
    "        # Repeat until change in value is below the threshold\n",
    "        for i in range(int(max_iterations)):\n",
    "            # Initialize a change of value function as zero\n",
    "            delta = 0\n",
    "            # Iterate though each state\n",
    "            for state in range(environment.nS):\n",
    "               # Initial a new value of current state\n",
    "               v = 0\n",
    "               # Try all possible actions which can be taken from this state\n",
    "               for action, action_probability in enumerate(policy[state]):\n",
    "                    # Check how good next state will be\n",
    "                    for state_probability, next_state, reward, terminated in environment.P[state][action]:\n",
    "                        # Calculate the expected value\n",
    "                        v += action_probability * state_probability * (reward + discount_factor * V[next_state])\n",
    "\n",
    "               # Calculate the absolute change of value function\n",
    "               delta = max(delta, np.abs(V[state] - v))\n",
    "               # Update value function\n",
    "               V[state] = v\n",
    "            evaluation_iterations += 1\n",
    "\n",
    "            # Terminate if value change is insignificant\n",
    "            if delta < theta:\n",
    "                    print(f'Policy evaluated in {evaluation_iterations} iterations.')\n",
    "                    return V"
   ]
  },
  {
   "cell_type": "markdown",
   "metadata": {},
   "source": [
    "Now coming to the policy improvement part of the policy iteration algorithm. We need a helper function that does one step lookahead to calculate the state-value function. This will return an array of length nA containing expected value of each action"
   ]
  },
  {
   "cell_type": "code",
   "execution_count": 2,
   "metadata": {},
   "outputs": [],
   "source": [
    "def one_step_lookahead(environment, state, V, discount_factor):\n",
    "        action_values = np.zeros(environment.nA)\n",
    "        for action in range(environment.nA):\n",
    "                for probability, next_state, reward, terminated in environment.P[state][action]:\n",
    "                        action_values[action] += probability * (reward + discount_factor * V[next_state])\n",
    "        return action_values"
   ]
  },
  {
   "cell_type": "markdown",
   "metadata": {},
   "source": [
    "Now, the overall policy iteration would be as described below. This will return a tuple (policy,V) which is the optimal policy matrix and value function for each state."
   ]
  },
  {
   "cell_type": "code",
   "execution_count": 62,
   "metadata": {},
   "outputs": [],
   "source": [
    "def policy_iteration(environment, discount_factor=1.0, max_iterations=1e9):\n",
    "        # Start with a random policy\n",
    "        # (num states by num actions) / num actions\n",
    "        policy = np.ones([environment.nS, environment.nA]) / environment.nA \n",
    "        # Initialize counter of evaluated policies\n",
    "        evaluated_policies = 1\n",
    "        # Repeat until convergence or critical number of iterations reached\n",
    "        for i in range(int(max_iterations)):\n",
    "            stable_policy = True\n",
    "            # Evaluate current policy\n",
    "            V = policy_evaluation(policy, environment, discount_factor=discount_factor)\n",
    "            # Go through each state and try to improve actions that were taken (policy Improvement)\n",
    "            for state in range(environment.nS):\n",
    "                # Choose the best action in a current state under current policy\n",
    "                current_action = np.argmax(policy[state])\n",
    "                # Look one step ahead and evaluate if current action is optimal\n",
    "                # We will try every possible action in a current state\n",
    "                action_value = one_step_lookahead(environment, state, V, discount_factor)\n",
    "                # Select a better action\n",
    "                best_action = np.argmax(action_value)\n",
    "                # If action didn't change\n",
    "                if current_action != best_action: # I made a change here\n",
    "                    stable_policy = False\n",
    "                    # Greedy policy update\n",
    "                    policy[state] = np.eye(environment.nA)[best_action]\n",
    "                else:\n",
    "                    policy[state] = np.eye(environment.nA)[best_action]\n",
    "            evaluated_policies += 1\n",
    "            # If the algorithm converged and policy is not changing anymore, then return final policy and value function\n",
    "            if stable_policy:\n",
    "                print(f'Evaluated {evaluated_policies} policies.')\n",
    "                return policy, V"
   ]
  },
  {
   "cell_type": "markdown",
   "metadata": {},
   "source": [
    "### Value Iteration in python\n",
    "\n",
    "The parameters are defined in the same manner for value iteration. The value iteration algorithm can be similarly coded:"
   ]
  },
  {
   "cell_type": "code",
   "execution_count": 70,
   "metadata": {},
   "outputs": [],
   "source": [
    "def value_iteration(environment, discount_factor=1.0, theta=1e-9, max_iterations=1e9):\n",
    "        # Initialize state-value function with zeros for each environment state\n",
    "        V = np.zeros(environment.nS)\n",
    "        for i in range(int(max_iterations)):\n",
    "            # Early stopping condition\n",
    "            delta = 0\n",
    "            # Update each state\n",
    "            for state in range(environment.nS):\n",
    "                    # Do a one-step lookahead to calculate state-action values\n",
    "                    action_value = one_step_lookahead(environment, state, V, discount_factor)\n",
    "                    # Select best action to perform based on the highest state-action value\n",
    "                    best_action_value = np.max(action_value)\n",
    "                    # Calculate change in value\n",
    "                    delta = max(delta, np.abs(V[state] - best_action_value))\n",
    "                    # Update the value function for current state\n",
    "                    V[state] = best_action_value\n",
    "                    # Check if we can stop\n",
    "            if delta < theta:\n",
    "                    print(f'Value-iteration converged at iteration#{i}.')\n",
    "                    break\n",
    "\n",
    "        # Create a deterministic policy using the optimal value function\n",
    "        policy = np.zeros([environment.nS, environment.nA])\n",
    "        for state in range(environment.nS):\n",
    "            # One step lookahead to find the best action for this state\n",
    "            action_value = one_step_lookahead(environment, state, V, discount_factor)\n",
    "            # Select best action based on the highest state-action value\n",
    "            best_action = np.argmax(action_value)\n",
    "            # Update the policy to perform a better action at a current state\n",
    "            policy[state, best_action] = 1.0\n",
    "        return policy, V"
   ]
  },
  {
   "cell_type": "markdown",
   "metadata": {},
   "source": [
    "### Compare the methods\n",
    "\n",
    "Finally, let’s compare both methods to look at which of them works better in a practical setting. To do this, we will try to learn the optimal policy for the frozen lake environment using both techniques described above. Later, we will check which technique performed better based on the average return after 10,000 episodes."
   ]
  },
  {
   "cell_type": "code",
   "execution_count": 72,
   "metadata": {},
   "outputs": [
    {
     "name": "stdout",
     "output_type": "stream",
     "text": [
      "Policy evaluated in 66 iterations.\n",
      "Policy evaluated in 417 iterations.\n",
      "Policy evaluated in 527 iterations.\n",
      "Evaluated 4 policies.\n",
      "Policy Iteration :: number of wins over 10000 episodes = 7371\n",
      "Policy Iteration :: average reward over 10000 episodes = 0.7371 \n",
      "\n",
      "\n",
      "Value-iteration converged at iteration#523.\n",
      "Value Iteration :: number of wins over 10000 episodes = 7416\n",
      "Value Iteration :: average reward over 10000 episodes = 0.7416 \n",
      "\n",
      "\n"
     ]
    }
   ],
   "source": [
    "def play_episodes(environment, n_episodes, policy):\n",
    "    wins = 0\n",
    "    total_reward = 0\n",
    "    for episode in range(n_episodes):\n",
    "        terminated = False\n",
    "        state = environment.reset()\n",
    "        while not terminated:\n",
    "            # Select best action to perform in a current state\n",
    "            action = np.argmax(policy[state])\n",
    "            # Perform an action an observe how environment acted in response\n",
    "            next_state, reward, terminated, info = environment.step(action)\n",
    "            # Summarize total reward\n",
    "            total_reward += reward\n",
    "            # Update current state\n",
    "            state = next_state\n",
    "            # Calculate number of wins over episodes\n",
    "            if terminated and reward == 1.0:\n",
    "                wins += 1\n",
    "    average_reward = total_reward / n_episodes\n",
    "    return wins, total_reward, average_reward\n",
    "\n",
    "# Number of episodes to play\n",
    "n_episodes = 10000\n",
    "# Functions to find best policy\n",
    "solvers = [('Policy Iteration', policy_iteration),\n",
    "           ('Value Iteration', value_iteration)]\n",
    "for iteration_name, iteration_func in solvers:\n",
    "    # Load a Frozen Lake environment\n",
    "    environment = gym.make('FrozenLake-v0')\n",
    "    # Search for an optimal policy using policy iteration\n",
    "    policy, V = iteration_func(environment.env)\n",
    "    # Apply best policy to the real environment\n",
    "    wins, total_reward, average_reward = play_episodes(environment, n_episodes, policy)\n",
    "    print(f'{iteration_name} :: number of wins over {n_episodes} episodes = {wins}')\n",
    "    print(f'{iteration_name} :: average reward over {n_episodes} episodes = {average_reward} \\n\\n')"
   ]
  }
 ],
 "metadata": {
  "kernelspec": {
   "display_name": "Python 3",
   "language": "python",
   "name": "python3"
  },
  "language_info": {
   "codemirror_mode": {
    "name": "ipython",
    "version": 3
   },
   "file_extension": ".py",
   "mimetype": "text/x-python",
   "name": "python",
   "nbconvert_exporter": "python",
   "pygments_lexer": "ipython3",
   "version": "3.7.3"
  }
 },
 "nbformat": 4,
 "nbformat_minor": 2
}
