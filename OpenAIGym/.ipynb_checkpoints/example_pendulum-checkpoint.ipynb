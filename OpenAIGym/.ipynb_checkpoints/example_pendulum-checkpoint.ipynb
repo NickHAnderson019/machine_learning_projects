{
 "cells": [
  {
   "cell_type": "markdown",
   "metadata": {},
   "source": [
    "# Inverted Pendulum\n",
    "\n",
    "### Details\n",
    "\n",
    "Here are descriptions involved in the system.\n",
    "\n",
    "**observation (states)** - $[cos(\\theta), sin(\\theta), \\dot{\\theta}]$ (randomly selected)"
   ]
  },
  {
   "cell_type": "code",
   "execution_count": 1,
   "metadata": {},
   "outputs": [],
   "source": [
    "import gym\n",
    "import numpy as np"
   ]
  },
  {
   "cell_type": "code",
   "execution_count": 2,
   "metadata": {},
   "outputs": [],
   "source": [
    "# A quick run of the CartPole enviroment with random actions\n",
    "# prints out the observations\n",
    "env = gym.make(\"Pendulum-v0\")\n",
    "for i_episode in range(10):\n",
    "    observation = env.reset()\n",
    "    for t in range(50):\n",
    "        env.render()\n",
    "        action = env.action_space.sample()\n",
    "        next_state, reward, terminated, info = env.step(action)\n",
    "        if terminated:\n",
    "            print(\"Episode finished after {} timesteps\".format(t+1))\n",
    "            break\n",
    "env.close()"
   ]
  },
  {
   "cell_type": "code",
   "execution_count": 23,
   "metadata": {},
   "outputs": [],
   "source": [
    "observation = env.reset()\n",
    "action_ar = []\n",
    "state_ar = [observation]\n",
    "for t in range(50):\n",
    "    env.render()\n",
    "    action = env.action_space.sample()\n",
    "    action_ar.append(action[0])\n",
    "    \n",
    "    next_state, reward, terminated, info = env.step(action)\n",
    "    if terminated:\n",
    "        print(\"Episode finished after {} timesteps\".format(t+1))\n",
    "        break\n",
    "    state = next_state\n",
    "    state_ar.append(state)\n",
    "        \n",
    "env.close()"
   ]
  },
  {
   "cell_type": "code",
   "execution_count": 33,
   "metadata": {},
   "outputs": [
    {
     "name": "stdout",
     "output_type": "stream",
     "text": [
      "2.766473043562533\n",
      "-0.37511961002726013\n"
     ]
    },
    {
     "data": {
      "text/plain": [
       "array([-0.93046381, -0.36638382, -0.33895603])"
      ]
     },
     "execution_count": 33,
     "metadata": {},
     "output_type": "execute_result"
    }
   ],
   "source": [
    "print(np.arccos(state_ar[0][0]))\n",
    "print(np.arcsin(state_ar[0][1]))\n",
    "state_ar[0]"
   ]
  },
  {
   "cell_type": "code",
   "execution_count": 38,
   "metadata": {},
   "outputs": [
    {
     "data": {
      "text/plain": [
       "array([0.98254759, 0.18601139, 0.51108224])"
      ]
     },
     "execution_count": 38,
     "metadata": {},
     "output_type": "execute_result"
    }
   ],
   "source": [
    "observation = env.reset()\n",
    "observation"
   ]
  },
  {
   "cell_type": "code",
   "execution_count": 133,
   "metadata": {},
   "outputs": [],
   "source": [
    "action = env.action_space.sample()\n",
    "next_state, reward, terminated, info = env.step(action)\n"
   ]
  }
 ],
 "metadata": {
  "kernelspec": {
   "display_name": "Python 3",
   "language": "python",
   "name": "python3"
  },
  "language_info": {
   "codemirror_mode": {
    "name": "ipython",
    "version": 3
   },
   "file_extension": ".py",
   "mimetype": "text/x-python",
   "name": "python",
   "nbconvert_exporter": "python",
   "pygments_lexer": "ipython3",
   "version": "3.7.3"
  }
 },
 "nbformat": 4,
 "nbformat_minor": 2
}
