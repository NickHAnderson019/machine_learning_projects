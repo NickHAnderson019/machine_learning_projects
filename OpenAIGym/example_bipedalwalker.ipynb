{
 "cells": [
  {
   "cell_type": "markdown",
   "metadata": {},
   "source": [
    "# Bipedal Walker Problem\n",
    "\n",
    "https://gym.openai.com/envs/BipedalWalker-v2/"
   ]
  },
  {
   "cell_type": "markdown",
   "metadata": {},
   "source": [
    "### Deep Q Neural Network\n",
    "\n",
    "https://medium.com/dabbler-in-de-stress/the-inverted-pendulum-problem-with-deep-reinforcement-learning-9f149b68c018"
   ]
  },
  {
   "cell_type": "code",
   "execution_count": 4,
   "metadata": {},
   "outputs": [
    {
     "name": "stderr",
     "output_type": "stream",
     "text": [
      "Using TensorFlow backend.\n"
     ]
    },
    {
     "ename": "ImportError",
     "evalue": "No module named tensorflow",
     "output_type": "error",
     "traceback": [
      "\u001b[1;31m---------------------------------------------------------------------------\u001b[0m",
      "\u001b[1;31mImportError\u001b[0m                               Traceback (most recent call last)",
      "\u001b[1;32m<ipython-input-4-d1452d2bde73>\u001b[0m in \u001b[0;36m<module>\u001b[1;34m()\u001b[0m\n\u001b[0;32m      4\u001b[0m \u001b[1;31m# import tensorflow as tf\u001b[0m\u001b[1;33m\u001b[0m\u001b[1;33m\u001b[0m\u001b[0m\n\u001b[0;32m      5\u001b[0m \u001b[1;31m# from tensorflow import keras\u001b[0m\u001b[1;33m\u001b[0m\u001b[1;33m\u001b[0m\u001b[0m\n\u001b[1;32m----> 6\u001b[1;33m \u001b[1;32mimport\u001b[0m \u001b[0mkeras\u001b[0m\u001b[1;33m\u001b[0m\u001b[0m\n\u001b[0m\u001b[0;32m      7\u001b[0m \u001b[1;32mfrom\u001b[0m \u001b[0mstatistics\u001b[0m \u001b[1;32mimport\u001b[0m \u001b[0mmedian\u001b[0m\u001b[1;33m,\u001b[0m \u001b[0mmean\u001b[0m\u001b[1;33m\u001b[0m\u001b[0m\n\u001b[0;32m      8\u001b[0m \u001b[1;32mfrom\u001b[0m \u001b[0mcollections\u001b[0m \u001b[1;32mimport\u001b[0m \u001b[0mCounter\u001b[0m\u001b[1;33m\u001b[0m\u001b[0m\n",
      "\u001b[1;32mC:\\Users\\Nick\\AppData\\Local\\Continuum\\anaconda3\\envs\\py27\\lib\\site-packages\\keras\\__init__.py\u001b[0m in \u001b[0;36m<module>\u001b[1;34m()\u001b[0m\n\u001b[0;32m      1\u001b[0m \u001b[1;32mfrom\u001b[0m \u001b[0m__future__\u001b[0m \u001b[1;32mimport\u001b[0m \u001b[0mabsolute_import\u001b[0m\u001b[1;33m\u001b[0m\u001b[0m\n\u001b[0;32m      2\u001b[0m \u001b[1;33m\u001b[0m\u001b[0m\n\u001b[1;32m----> 3\u001b[1;33m \u001b[1;32mfrom\u001b[0m \u001b[1;33m.\u001b[0m \u001b[1;32mimport\u001b[0m \u001b[0mutils\u001b[0m\u001b[1;33m\u001b[0m\u001b[0m\n\u001b[0m\u001b[0;32m      4\u001b[0m \u001b[1;32mfrom\u001b[0m \u001b[1;33m.\u001b[0m \u001b[1;32mimport\u001b[0m \u001b[0mactivations\u001b[0m\u001b[1;33m\u001b[0m\u001b[0m\n\u001b[0;32m      5\u001b[0m \u001b[1;32mfrom\u001b[0m \u001b[1;33m.\u001b[0m \u001b[1;32mimport\u001b[0m \u001b[0mapplications\u001b[0m\u001b[1;33m\u001b[0m\u001b[0m\n",
      "\u001b[1;32mC:\\Users\\Nick\\AppData\\Local\\Continuum\\anaconda3\\envs\\py27\\lib\\site-packages\\keras\\utils\\__init__.py\u001b[0m in \u001b[0;36m<module>\u001b[1;34m()\u001b[0m\n\u001b[0;32m      4\u001b[0m \u001b[1;32mfrom\u001b[0m \u001b[1;33m.\u001b[0m \u001b[1;32mimport\u001b[0m \u001b[0mdata_utils\u001b[0m\u001b[1;33m\u001b[0m\u001b[0m\n\u001b[0;32m      5\u001b[0m \u001b[1;32mfrom\u001b[0m \u001b[1;33m.\u001b[0m \u001b[1;32mimport\u001b[0m \u001b[0mio_utils\u001b[0m\u001b[1;33m\u001b[0m\u001b[0m\n\u001b[1;32m----> 6\u001b[1;33m \u001b[1;32mfrom\u001b[0m \u001b[1;33m.\u001b[0m \u001b[1;32mimport\u001b[0m \u001b[0mconv_utils\u001b[0m\u001b[1;33m\u001b[0m\u001b[0m\n\u001b[0m\u001b[0;32m      7\u001b[0m \u001b[1;33m\u001b[0m\u001b[0m\n\u001b[0;32m      8\u001b[0m \u001b[1;31m# Globally-importable utils.\u001b[0m\u001b[1;33m\u001b[0m\u001b[1;33m\u001b[0m\u001b[0m\n",
      "\u001b[1;32mC:\\Users\\Nick\\AppData\\Local\\Continuum\\anaconda3\\envs\\py27\\lib\\site-packages\\keras\\utils\\conv_utils.py\u001b[0m in \u001b[0;36m<module>\u001b[1;34m()\u001b[0m\n\u001b[0;32m      7\u001b[0m \u001b[1;32mfrom\u001b[0m \u001b[0msix\u001b[0m\u001b[1;33m.\u001b[0m\u001b[0mmoves\u001b[0m \u001b[1;32mimport\u001b[0m \u001b[0mrange\u001b[0m\u001b[1;33m\u001b[0m\u001b[0m\n\u001b[0;32m      8\u001b[0m \u001b[1;32mimport\u001b[0m \u001b[0mnumpy\u001b[0m \u001b[1;32mas\u001b[0m \u001b[0mnp\u001b[0m\u001b[1;33m\u001b[0m\u001b[0m\n\u001b[1;32m----> 9\u001b[1;33m \u001b[1;32mfrom\u001b[0m \u001b[1;33m.\u001b[0m\u001b[1;33m.\u001b[0m \u001b[1;32mimport\u001b[0m \u001b[0mbackend\u001b[0m \u001b[1;32mas\u001b[0m \u001b[0mK\u001b[0m\u001b[1;33m\u001b[0m\u001b[0m\n\u001b[0m\u001b[0;32m     10\u001b[0m \u001b[1;33m\u001b[0m\u001b[0m\n\u001b[0;32m     11\u001b[0m \u001b[1;33m\u001b[0m\u001b[0m\n",
      "\u001b[1;32mC:\\Users\\Nick\\AppData\\Local\\Continuum\\anaconda3\\envs\\py27\\lib\\site-packages\\keras\\backend\\__init__.py\u001b[0m in \u001b[0;36m<module>\u001b[1;34m()\u001b[0m\n\u001b[1;32m----> 1\u001b[1;33m \u001b[1;32mfrom\u001b[0m \u001b[1;33m.\u001b[0m\u001b[0mload_backend\u001b[0m \u001b[1;32mimport\u001b[0m \u001b[0mepsilon\u001b[0m\u001b[1;33m\u001b[0m\u001b[0m\n\u001b[0m\u001b[0;32m      2\u001b[0m \u001b[1;32mfrom\u001b[0m \u001b[1;33m.\u001b[0m\u001b[0mload_backend\u001b[0m \u001b[1;32mimport\u001b[0m \u001b[0mset_epsilon\u001b[0m\u001b[1;33m\u001b[0m\u001b[0m\n\u001b[0;32m      3\u001b[0m \u001b[1;32mfrom\u001b[0m \u001b[1;33m.\u001b[0m\u001b[0mload_backend\u001b[0m \u001b[1;32mimport\u001b[0m \u001b[0mfloatx\u001b[0m\u001b[1;33m\u001b[0m\u001b[0m\n\u001b[0;32m      4\u001b[0m \u001b[1;32mfrom\u001b[0m \u001b[1;33m.\u001b[0m\u001b[0mload_backend\u001b[0m \u001b[1;32mimport\u001b[0m \u001b[0mset_floatx\u001b[0m\u001b[1;33m\u001b[0m\u001b[0m\n\u001b[0;32m      5\u001b[0m \u001b[1;32mfrom\u001b[0m \u001b[1;33m.\u001b[0m\u001b[0mload_backend\u001b[0m \u001b[1;32mimport\u001b[0m \u001b[0mcast_to_floatx\u001b[0m\u001b[1;33m\u001b[0m\u001b[0m\n",
      "\u001b[1;32mC:\\Users\\Nick\\AppData\\Local\\Continuum\\anaconda3\\envs\\py27\\lib\\site-packages\\keras\\backend\\load_backend.py\u001b[0m in \u001b[0;36m<module>\u001b[1;34m()\u001b[0m\n\u001b[0;32m     87\u001b[0m \u001b[1;32melif\u001b[0m \u001b[0m_BACKEND\u001b[0m \u001b[1;33m==\u001b[0m \u001b[1;34m'tensorflow'\u001b[0m\u001b[1;33m:\u001b[0m\u001b[1;33m\u001b[0m\u001b[0m\n\u001b[0;32m     88\u001b[0m     \u001b[0msys\u001b[0m\u001b[1;33m.\u001b[0m\u001b[0mstderr\u001b[0m\u001b[1;33m.\u001b[0m\u001b[0mwrite\u001b[0m\u001b[1;33m(\u001b[0m\u001b[1;34m'Using TensorFlow backend.\\n'\u001b[0m\u001b[1;33m)\u001b[0m\u001b[1;33m\u001b[0m\u001b[0m\n\u001b[1;32m---> 89\u001b[1;33m     \u001b[1;32mfrom\u001b[0m \u001b[1;33m.\u001b[0m\u001b[0mtensorflow_backend\u001b[0m \u001b[1;32mimport\u001b[0m \u001b[1;33m*\u001b[0m\u001b[1;33m\u001b[0m\u001b[0m\n\u001b[0m\u001b[0;32m     90\u001b[0m \u001b[1;32melse\u001b[0m\u001b[1;33m:\u001b[0m\u001b[1;33m\u001b[0m\u001b[0m\n\u001b[0;32m     91\u001b[0m     \u001b[1;31m# Try and load external backend.\u001b[0m\u001b[1;33m\u001b[0m\u001b[1;33m\u001b[0m\u001b[0m\n",
      "\u001b[1;32mC:\\Users\\Nick\\AppData\\Local\\Continuum\\anaconda3\\envs\\py27\\lib\\site-packages\\keras\\backend\\tensorflow_backend.py\u001b[0m in \u001b[0;36m<module>\u001b[1;34m()\u001b[0m\n\u001b[0;32m      3\u001b[0m \u001b[1;32mfrom\u001b[0m \u001b[0m__future__\u001b[0m \u001b[1;32mimport\u001b[0m \u001b[0mprint_function\u001b[0m\u001b[1;33m\u001b[0m\u001b[0m\n\u001b[0;32m      4\u001b[0m \u001b[1;33m\u001b[0m\u001b[0m\n\u001b[1;32m----> 5\u001b[1;33m \u001b[1;32mimport\u001b[0m \u001b[0mtensorflow\u001b[0m \u001b[1;32mas\u001b[0m \u001b[0mtf\u001b[0m\u001b[1;33m\u001b[0m\u001b[0m\n\u001b[0m\u001b[0;32m      6\u001b[0m \u001b[1;32mfrom\u001b[0m \u001b[0mtensorflow\u001b[0m\u001b[1;33m.\u001b[0m\u001b[0mpython\u001b[0m\u001b[1;33m.\u001b[0m\u001b[0mframework\u001b[0m \u001b[1;32mimport\u001b[0m \u001b[0mops\u001b[0m \u001b[1;32mas\u001b[0m \u001b[0mtf_ops\u001b[0m\u001b[1;33m\u001b[0m\u001b[0m\n\u001b[0;32m      7\u001b[0m \u001b[1;32mfrom\u001b[0m \u001b[0mtensorflow\u001b[0m\u001b[1;33m.\u001b[0m\u001b[0mpython\u001b[0m\u001b[1;33m.\u001b[0m\u001b[0mtraining\u001b[0m \u001b[1;32mimport\u001b[0m \u001b[0mmoving_averages\u001b[0m\u001b[1;33m\u001b[0m\u001b[0m\n",
      "\u001b[1;31mImportError\u001b[0m: No module named tensorflow"
     ]
    }
   ],
   "source": [
    "import gym\n",
    "import random\n",
    "import numpy as np\n",
    "import tensorflow as tf\n",
    "from tensorflow import keras\n",
    "from statistics import median, mean\n",
    "from collections import Counter"
   ]
  },
  {
   "cell_type": "code",
   "execution_count": 11,
   "metadata": {},
   "outputs": [],
   "source": [
    "LR = 1e-3\n",
    "env = gym.make(\"BipedalWalker-v2\")\n",
    "env.reset()\n",
    "goal_steps = 500\n",
    "score_requirement = 100\n",
    "initial_games = 100000"
   ]
  },
  {
   "cell_type": "code",
   "execution_count": 12,
   "metadata": {},
   "outputs": [],
   "source": [
    "def some_random_games_first():\n",
    "    # Each of these is its own game.\n",
    "    for episode in range(5):\n",
    "        env.reset()\n",
    "        # this is each frame, up to 200...but we wont make it that far.\n",
    "        for t in range(200):\n",
    "            # This will display the environment\n",
    "            # Only display if you really want to see it.\n",
    "            # Takes much longer to display it.\n",
    "            env.render()\n",
    "            \n",
    "            # This will just create a sample action in any environment.\n",
    "            # In this environment, the action can be 0 or 1, which is left or right\n",
    "            action = env.action_space.sample()\n",
    "            \n",
    "            # this executes the environment with an action, \n",
    "            # and returns the observation of the environment, \n",
    "            # the reward, if the env is over, and other info.\n",
    "            observation, reward, done, info = env.step(action)\n",
    "            if done:\n",
    "                break\n",
    "    env.close()\n",
    "                \n",
    "some_random_games_first()"
   ]
  },
  {
   "cell_type": "markdown",
   "metadata": {},
   "source": [
    "## Create Traininig Data"
   ]
  },
  {
   "cell_type": "code",
   "execution_count": 13,
   "metadata": {},
   "outputs": [],
   "source": [
    "def initial_population():\n",
    "    # [OBS, MOVES]\n",
    "    training_data = []\n",
    "    # all scores:\n",
    "    scores = []\n",
    "    # just the scores that met our threshold:\n",
    "    accepted_scores = []\n",
    "    # iterate through however many games we want:\n",
    "    for _ in range(initial_games):\n",
    "        score = 0\n",
    "        # moves specifically from this environment:\n",
    "        game_memory = []\n",
    "        # previous observation that we saw\n",
    "        prev_observation = []\n",
    "        # for each frame in 500\n",
    "        for _ in range(goal_steps):\n",
    "            # choose random action (0 or 1)\n",
    "            action = random.randrange(0,2)\n",
    "            # do it!\n",
    "            observation, reward, done, info = env.step(action)\n",
    "            \n",
    "            # notice that the observation is returned FROM the action\n",
    "            # so we'll store the previous observation here, pairing\n",
    "            # the prev observation to the action we'll take.\n",
    "            if len(prev_observation) > 0 :\n",
    "                game_memory.append([prev_observation, action])\n",
    "            prev_observation = observation\n",
    "            score+=reward\n",
    "            if done: \n",
    "                break\n",
    "                \n",
    "        # reset env to play again\n",
    "        env.reset()\n",
    "        # save overall scores\n",
    "        scores.append(score)\n",
    "        \n",
    "        # IF our score is higher than our threshold, we'd like to save\n",
    "        # every move we made\n",
    "        # NOTE the reinforcement methodology here. \n",
    "        # all we're doing is reinforcing the score, we're not trying \n",
    "        # to influence the machine in any way as to HOW that score is \n",
    "        # reached.\n",
    "        if score >= score_requirement:\n",
    "            accepted_scores.append(score)\n",
    "            for data in game_memory:\n",
    "                # convert to one-hot (this is the output layer for our neural network)\n",
    "                if data[1] == 1:\n",
    "                    output = [0,1]\n",
    "                elif data[1] == 0:\n",
    "                    output = [1,0]\n",
    "                    \n",
    "                # saving our training data\n",
    "                training_data.append([data[0], output])\n",
    "    \n",
    "    # just in case you wanted to reference later\n",
    "    training_data_save = np.array(training_data)\n",
    "    np.save('saved.npy',training_data_save)\n",
    "    \n",
    "    # some stats here, to further illustrate the neural network magic!\n",
    "    print('Average accepted score:',mean(accepted_scores))\n",
    "    print('Median score for accepted scores:',median(accepted_scores))\n",
    "    print(Counter(accepted_scores))\n",
    "    \n",
    "    return training_data"
   ]
  },
  {
   "cell_type": "code",
   "execution_count": 14,
   "metadata": {},
   "outputs": [],
   "source": [
    "def neural_network_model(input_size):\n",
    "\n",
    "    model = keras.Sequential([\n",
    "        keras.layers.Flatten(input_shape=(input_size, 1)),\n",
    "        keras.layers.Dense(128, activation='relu'),\n",
    "        keras.layers.Dense(256, activation='relu'),\n",
    "        keras.layers.Dense(512, activation='relu'),\n",
    "        keras.layers.Dense(256, activation='relu'),\n",
    "        keras.layers.Dense(128, activation='relu'),\n",
    "        keras.layers.Dense(2, activation='softmax')\n",
    "    ])\n",
    "    model.compile(optimizer='adam',\n",
    "#                 learning_rate=LR, \n",
    "                loss='categorical_crossentropy', \n",
    "                metrics=['accuracy']) \n",
    "                #target_tensors='targets')\n",
    "\n",
    "    return model"
   ]
  },
  {
   "cell_type": "code",
   "execution_count": 15,
   "metadata": {},
   "outputs": [],
   "source": [
    "def train_model(training_data, n_epochs, model=False):\n",
    "\n",
    "    X = np.array([i[0] for i in training_data]).reshape(-1,len(training_data[0][0]),1) # training data\n",
    "    y = np.array([i[1] for i in training_data]) # training lables\n",
    "    \n",
    "    if not model:\n",
    "        model = neural_network_model(input_size = len(X[0]))\n",
    "    \n",
    "    model.fit(X, y, epochs=n_epochs)\n",
    "    return model\n",
    "\n",
    "# model.fit(train_images, train_labels, epochs=10)"
   ]
  },
  {
   "cell_type": "code",
   "execution_count": 26,
   "metadata": {},
   "outputs": [
    {
     "data": {
      "text/plain": [
       "4"
      ]
     },
     "execution_count": 26,
     "metadata": {},
     "output_type": "execute_result"
    }
   ],
   "source": [
    "len(X[0])"
   ]
  },
  {
   "cell_type": "code",
   "execution_count": 24,
   "metadata": {},
   "outputs": [
    {
     "name": "stdout",
     "output_type": "stream",
     "text": [
      "Average accepted score: 113.65957446808511\n",
      "Median score for accepted scores: 109.0\n",
      "Counter({106.0: 7, 104.0: 4, 103.0: 3, 100.0: 3, 110.0: 3, 101.0: 2, 123.0: 2, 118.0: 2, 112.0: 2, 107.0: 1, 102.0: 1, 105.0: 1, 138.0: 1, 133.0: 1, 128.0: 1, 147.0: 1, 132.0: 1, 155.0: 1, 108.0: 1, 109.0: 1, 111.0: 1, 127.0: 1, 126.0: 1, 134.0: 1, 116.0: 1, 131.0: 1, 113.0: 1, 115.0: 1})\n"
     ]
    }
   ],
   "source": [
    "training_data = initial_population()"
   ]
  },
  {
   "cell_type": "code",
   "execution_count": 8,
   "metadata": {},
   "outputs": [
    {
     "name": "stdout",
     "output_type": "stream",
     "text": [
      "Train on 6167 samples\n",
      "Epoch 1/50\n",
      "6167/6167 [==============================] - 3s 428us/sample - loss: 0.6655 - accuracy: 0.6043\n",
      "Epoch 2/50\n",
      "6167/6167 [==============================] - 1s 174us/sample - loss: 0.6584 - accuracy: 0.6225\n",
      "Epoch 3/50\n",
      "6167/6167 [==============================] - 1s 114us/sample - loss: 0.6552 - accuracy: 0.6206\n",
      "Epoch 4/50\n",
      "6167/6167 [==============================] - 1s 101us/sample - loss: 0.6533 - accuracy: 0.6180\n",
      "Epoch 5/50\n",
      "6167/6167 [==============================] - 1s 102us/sample - loss: 0.6504 - accuracy: 0.6215\n",
      "Epoch 6/50\n",
      "6167/6167 [==============================] - 1s 117us/sample - loss: 0.6498 - accuracy: 0.6288\n",
      "Epoch 7/50\n",
      "6167/6167 [==============================] - 1s 122us/sample - loss: 0.6490 - accuracy: 0.6256\n",
      "Epoch 8/50\n",
      "6167/6167 [==============================] - 1s 114us/sample - loss: 0.6469 - accuracy: 0.6248\n",
      "Epoch 9/50\n",
      "6167/6167 [==============================] - 1s 114us/sample - loss: 0.6467 - accuracy: 0.6204\n",
      "Epoch 10/50\n",
      "6167/6167 [==============================] - 1s 130us/sample - loss: 0.6459 - accuracy: 0.6279\n",
      "Epoch 11/50\n",
      "6167/6167 [==============================] - 1s 143us/sample - loss: 0.6444 - accuracy: 0.6285\n",
      "Epoch 12/50\n",
      "6167/6167 [==============================] - 1s 122us/sample - loss: 0.6417 - accuracy: 0.6275\n",
      "Epoch 13/50\n",
      "6167/6167 [==============================] - 1s 112us/sample - loss: 0.6437 - accuracy: 0.6283\n",
      "Epoch 14/50\n",
      "6167/6167 [==============================] - 1s 113us/sample - loss: 0.6427 - accuracy: 0.6243\n",
      "Epoch 15/50\n",
      "6167/6167 [==============================] - 1s 111us/sample - loss: 0.6416 - accuracy: 0.6288\n",
      "Epoch 16/50\n",
      "6167/6167 [==============================] - 1s 110us/sample - loss: 0.6412 - accuracy: 0.6330\n",
      "Epoch 17/50\n",
      "6167/6167 [==============================] - 1s 110us/sample - loss: 0.6410 - accuracy: 0.6306\n",
      "Epoch 18/50\n",
      "6167/6167 [==============================] - 1s 117us/sample - loss: 0.6387 - accuracy: 0.6298\n",
      "Epoch 19/50\n",
      "6167/6167 [==============================] - 1s 114us/sample - loss: 0.6393 - accuracy: 0.6311\n",
      "Epoch 20/50\n",
      "6167/6167 [==============================] - 1s 114us/sample - loss: 0.6386 - accuracy: 0.6342\n",
      "Epoch 21/50\n",
      "6167/6167 [==============================] - 1s 111us/sample - loss: 0.6367 - accuracy: 0.6342\n",
      "Epoch 22/50\n",
      "6167/6167 [==============================] - 1s 108us/sample - loss: 0.6379 - accuracy: 0.6352\n",
      "Epoch 23/50\n",
      "6167/6167 [==============================] - 1s 111us/sample - loss: 0.6363 - accuracy: 0.6308\n",
      "Epoch 24/50\n",
      "6167/6167 [==============================] - 1s 132us/sample - loss: 0.6348 - accuracy: 0.6350\n",
      "Epoch 25/50\n",
      "6167/6167 [==============================] - 1s 179us/sample - loss: 0.6363 - accuracy: 0.6377\n",
      "Epoch 26/50\n",
      "6167/6167 [==============================] - 1s 179us/sample - loss: 0.6348 - accuracy: 0.6350\n",
      "Epoch 27/50\n",
      "6167/6167 [==============================] - 1s 175us/sample - loss: 0.6355 - accuracy: 0.6329\n",
      "Epoch 28/50\n",
      "6167/6167 [==============================] - 1s 173us/sample - loss: 0.6343 - accuracy: 0.6321\n",
      "Epoch 29/50\n",
      "6167/6167 [==============================] - 1s 185us/sample - loss: 0.6335 - accuracy: 0.6376\n",
      "Epoch 30/50\n",
      "6167/6167 [==============================] - 1s 189us/sample - loss: 0.6338 - accuracy: 0.6356\n",
      "Epoch 31/50\n",
      "6167/6167 [==============================] - 1s 196us/sample - loss: 0.6325 - accuracy: 0.6390\n",
      "Epoch 32/50\n",
      "6167/6167 [==============================] - 1s 204us/sample - loss: 0.6333 - accuracy: 0.6390\n",
      "Epoch 33/50\n",
      "6167/6167 [==============================] - 1s 199us/sample - loss: 0.6316 - accuracy: 0.6379\n",
      "Epoch 34/50\n",
      "6167/6167 [==============================] - 1s 195us/sample - loss: 0.6316 - accuracy: 0.6366\n",
      "Epoch 35/50\n",
      "6167/6167 [==============================] - 1s 179us/sample - loss: 0.6296 - accuracy: 0.6402\n",
      "Epoch 36/50\n",
      "6167/6167 [==============================] - 1s 178us/sample - loss: 0.6303 - accuracy: 0.6403\n",
      "Epoch 37/50\n",
      "6167/6167 [==============================] - 1s 199us/sample - loss: 0.6288 - accuracy: 0.6397\n",
      "Epoch 38/50\n",
      "6167/6167 [==============================] - 1s 176us/sample - loss: 0.6275 - accuracy: 0.6394\n",
      "Epoch 39/50\n",
      "6167/6167 [==============================] - 1s 180us/sample - loss: 0.6303 - accuracy: 0.6478\n",
      "Epoch 40/50\n",
      "6167/6167 [==============================] - 1s 192us/sample - loss: 0.6266 - accuracy: 0.6454\n",
      "Epoch 41/50\n",
      "6167/6167 [==============================] - 1s 198us/sample - loss: 0.6290 - accuracy: 0.6420\n",
      "Epoch 42/50\n",
      "6167/6167 [==============================] - 1s 177us/sample - loss: 0.6271 - accuracy: 0.6403\n",
      "Epoch 43/50\n",
      "6167/6167 [==============================] - 1s 189us/sample - loss: 0.6261 - accuracy: 0.6449\n",
      "Epoch 44/50\n",
      "6167/6167 [==============================] - 1s 151us/sample - loss: 0.6271 - accuracy: 0.6455\n",
      "Epoch 45/50\n",
      "6167/6167 [==============================] - 1s 105us/sample - loss: 0.6248 - accuracy: 0.6476\n",
      "Epoch 46/50\n",
      "6167/6167 [==============================] - 1s 102us/sample - loss: 0.6223 - accuracy: 0.6468\n",
      "Epoch 47/50\n",
      "6167/6167 [==============================] - 1s 104us/sample - loss: 0.6228 - accuracy: 0.6452\n",
      "Epoch 48/50\n",
      "6167/6167 [==============================] - 1s 105us/sample - loss: 0.6249 - accuracy: 0.6433\n",
      "Epoch 49/50\n",
      "6167/6167 [==============================] - ETA: 0s - loss: 0.6220 - accuracy: 0.64 - 1s 106us/sample - loss: 0.6212 - accuracy: 0.6467\n",
      "Epoch 50/50\n",
      "6167/6167 [==============================] - 1s 104us/sample - loss: 0.6209 - accuracy: 0.6485\n"
     ]
    }
   ],
   "source": [
    "model = train_model(training_data, n_epochs = 50) # train the model"
   ]
  },
  {
   "cell_type": "code",
   "execution_count": 111,
   "metadata": {},
   "outputs": [
    {
     "name": "stdout",
     "output_type": "stream",
     "text": [
      "DONE. Score =  200.0\n",
      "DONE. Score =  200.0\n",
      "DONE. Score =  196.0\n",
      "DONE. Score =  200.0\n",
      "DONE. Score =  200.0\n",
      "DONE. Score =  200.0\n",
      "DONE. Score =  170.0\n",
      "DONE. Score =  200.0\n",
      "DONE. Score =  185.0\n",
      "DONE. Score =  200.0\n",
      "Average Score: 195.1\n"
     ]
    }
   ],
   "source": [
    "scores = []\n",
    "choices = []\n",
    "for each_game in range(10):\n",
    "    score = 0\n",
    "    game_memory = []\n",
    "    prev_obs = env.reset()\n",
    "    for _ in range(goal_steps):\n",
    "#         env.render()\n",
    "\n",
    "        if len(prev_obs)==0:\n",
    "            action = random.randrange(0,2)\n",
    "        else:\n",
    "            action = np.argmax(model.predict(prev_obs.reshape(-1,len(prev_obs),1))[0])\n",
    "\n",
    "        choices.append(action)\n",
    "                \n",
    "        new_observation, reward, done, info = env.step(action)\n",
    "        prev_obs = new_observation\n",
    "        game_memory.append([new_observation, action])\n",
    "        score+=reward\n",
    "        if done: \n",
    "            print(\"DONE. Score = \", score)\n",
    "            break\n",
    "    env.close()\n",
    "    \n",
    "    scores.append(score)\n",
    "\n",
    "print('Average Score:',sum(scores)/len(scores))\n",
    "# print('choice 1:{}  choice 0:{}'.format(choices.count(1)/len(choices), choices.count(0)/len(choices)))\n",
    "# print(score_requirement)"
   ]
  },
  {
   "cell_type": "code",
   "execution_count": 112,
   "metadata": {},
   "outputs": [],
   "source": [
    "scores = []\n",
    "choices = []\n",
    "\n",
    "score = 0\n",
    "game_memory = []\n",
    "prev_obs = env.reset()\n"
   ]
  },
  {
   "cell_type": "code",
   "execution_count": 113,
   "metadata": {},
   "outputs": [],
   "source": [
    "if len(prev_obs)==0:\n",
    "    action = random.randrange(0,2)\n",
    "else:\n",
    "    action = np.argmax(model.predict(prev_obs.reshape(-1,len(prev_obs),1))[0])\n",
    "\n",
    "choices.append(action)\n",
    "\n",
    "new_observation, reward, done, info = env.step(action)\n",
    "prev_obs = new_observation\n",
    "# game_memory.append([new_observation, action])\n",
    "score+=reward\n",
    "# if done: \n",
    "#     print(\"DONE. Score = \", score)\n",
    "#     break\n",
    "# env.close()\n",
    "\n",
    "# scores.append(score)"
   ]
  },
  {
   "cell_type": "code",
   "execution_count": 126,
   "metadata": {},
   "outputs": [
    {
     "data": {
      "text/plain": [
       "array([0.4956295, 0.5043705], dtype=float32)"
      ]
     },
     "execution_count": 126,
     "metadata": {},
     "output_type": "execute_result"
    }
   ],
   "source": [
    "model.predict(prev_obs.reshape(-1,len(prev_obs),1))[0]"
   ]
  }
 ],
 "metadata": {
  "kernelspec": {
   "display_name": "Python 2",
   "language": "python",
   "name": "python2"
  },
  "language_info": {
   "codemirror_mode": {
    "name": "ipython",
    "version": 2
   },
   "file_extension": ".py",
   "mimetype": "text/x-python",
   "name": "python",
   "nbconvert_exporter": "python",
   "pygments_lexer": "ipython2",
   "version": "2.7.17"
  }
 },
 "nbformat": 4,
 "nbformat_minor": 2
}
