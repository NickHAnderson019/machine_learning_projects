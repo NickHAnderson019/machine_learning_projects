{
 "cells": [
  {
   "cell_type": "markdown",
   "metadata": {},
   "source": [
    "# Cart-Pole Problem\n",
    "\n",
    "https://github.com/openai/gym/wiki/Leaderboard#cartpole-v0\n",
    "\n",
    "https://github.com/openai/gym/blob/master/gym/envs/classic_control/cartpole.py\n",
    "\n",
    "### Details\n",
    "\n",
    "See details here:\n",
    "\n",
    "https://github.com/openai/gym/wiki/CartPole-v0"
   ]
  },
  {
   "cell_type": "markdown",
   "metadata": {},
   "source": [
    "### Deep Q Neural Network\n",
    "\n",
    "https://medium.com/dabbler-in-de-stress/the-inverted-pendulum-problem-with-deep-reinforcement-learning-9f149b68c018"
   ]
  },
  {
   "cell_type": "code",
   "execution_count": 5,
   "metadata": {},
   "outputs": [],
   "source": [
    "import gym\n",
    "import random\n",
    "import numpy as np\n",
    "import tensorflow as tf\n",
    "from tensorflow import keras\n",
    "from statistics import median, mean\n",
    "from collections import Counter"
   ]
  },
  {
   "cell_type": "code",
   "execution_count": 91,
   "metadata": {},
   "outputs": [],
   "source": [
    "LR = 1e-3\n",
    "env = gym.make(\"CartPole-v0\")\n",
    "env.reset()\n",
    "goal_steps = 500\n",
    "score_requirement = 100\n",
    "initial_games = 100000"
   ]
  },
  {
   "cell_type": "code",
   "execution_count": 92,
   "metadata": {},
   "outputs": [],
   "source": [
    "def some_random_games_first():\n",
    "    # Each of these is its own game.\n",
    "    for episode in range(5):\n",
    "        env.reset()\n",
    "        # this is each frame, up to 200...but we wont make it that far.\n",
    "        for t in range(200):\n",
    "            # This will display the environment\n",
    "            # Only display if you really want to see it.\n",
    "            # Takes much longer to display it.\n",
    "            env.render()\n",
    "            \n",
    "            # This will just create a sample action in any environment.\n",
    "            # In this environment, the action can be 0 or 1, which is left or right\n",
    "            action = env.action_space.sample()\n",
    "            \n",
    "            # this executes the environment with an action, \n",
    "            # and returns the observation of the environment, \n",
    "            # the reward, if the env is over, and other info.\n",
    "            observation, reward, done, info = env.step(action)\n",
    "            if done:\n",
    "                break\n",
    "    env.close()\n",
    "                \n",
    "some_random_games_first()"
   ]
  },
  {
   "cell_type": "markdown",
   "metadata": {},
   "source": [
    "## Create Traininig Data"
   ]
  },
  {
   "cell_type": "code",
   "execution_count": 93,
   "metadata": {},
   "outputs": [],
   "source": [
    "def initial_population():\n",
    "    # [OBS, MOVES]\n",
    "    training_data = []\n",
    "    # all scores:\n",
    "    scores = []\n",
    "    # just the scores that met our threshold:\n",
    "    accepted_scores = []\n",
    "    # iterate through however many games we want:\n",
    "    for _ in range(initial_games):\n",
    "        score = 0\n",
    "        # moves specifically from this environment:\n",
    "        game_memory = []\n",
    "        # previous observation that we saw\n",
    "        prev_observation = []\n",
    "        # for each frame in 500\n",
    "        for _ in range(goal_steps):\n",
    "            # choose random action (0 or 1)\n",
    "            action = random.randrange(0,2)\n",
    "            # do it!\n",
    "            observation, reward, done, info = env.step(action)\n",
    "            \n",
    "            # notice that the observation is returned FROM the action\n",
    "            # so we'll store the previous observation here, pairing\n",
    "            # the prev observation to the action we'll take.\n",
    "            if len(prev_observation) > 0 :\n",
    "                game_memory.append([prev_observation, action])\n",
    "            prev_observation = observation\n",
    "            score+=reward\n",
    "            if done: \n",
    "                break\n",
    "                \n",
    "        # reset env to play again\n",
    "        env.reset()\n",
    "        # save overall scores\n",
    "        scores.append(score)\n",
    "        \n",
    "        # IF our score is higher than our threshold, we'd like to save\n",
    "        # every move we made\n",
    "        # NOTE the reinforcement methodology here. \n",
    "        # all we're doing is reinforcing the score, we're not trying \n",
    "        # to influence the machine in any way as to HOW that score is \n",
    "        # reached.\n",
    "        if score >= score_requirement:\n",
    "            accepted_scores.append(score)\n",
    "            for data in game_memory:\n",
    "                # convert to one-hot (this is the output layer for our neural network)\n",
    "                if data[1] == 1:\n",
    "                    output = [0,1]\n",
    "                elif data[1] == 0:\n",
    "                    output = [1,0]\n",
    "                    \n",
    "                # saving our training data\n",
    "                training_data.append([data[0], output])\n",
    "    \n",
    "    # just in case you wanted to reference later\n",
    "    training_data_save = np.array(training_data)\n",
    "    np.save('saved.npy',training_data_save)\n",
    "    \n",
    "    # some stats here, to further illustrate the neural network magic!\n",
    "    print('Average accepted score:',mean(accepted_scores))\n",
    "    print('Median score for accepted scores:',median(accepted_scores))\n",
    "    print(Counter(accepted_scores))\n",
    "    \n",
    "    return training_data"
   ]
  },
  {
   "cell_type": "code",
   "execution_count": 94,
   "metadata": {},
   "outputs": [],
   "source": [
    "def neural_network_model(input_size):\n",
    "\n",
    "    model = keras.Sequential([\n",
    "        keras.layers.Flatten(input_shape=(input_size, 1)),\n",
    "        keras.layers.Dense(128, activation='relu'),\n",
    "        keras.layers.Dense(256, activation='relu'),\n",
    "        keras.layers.Dense(512, activation='relu'),\n",
    "        keras.layers.Dense(256, activation='relu'),\n",
    "        keras.layers.Dense(128, activation='relu'),\n",
    "        keras.layers.Dense(2, activation='softmax')\n",
    "    ])\n",
    "    model.compile(optimizer='adam',\n",
    "#                 learning_rate=LR, \n",
    "                loss='categorical_crossentropy', \n",
    "                metrics=['accuracy']) \n",
    "                #target_tensors='targets')\n",
    "\n",
    "    return model"
   ]
  },
  {
   "cell_type": "code",
   "execution_count": 95,
   "metadata": {},
   "outputs": [],
   "source": [
    "def train_model(training_data, n_epochs, model=False):\n",
    "\n",
    "    X = np.array([i[0] for i in training_data]).reshape(-1,len(training_data[0][0]),1) # training data\n",
    "    y = np.array([i[1] for i in training_data]) # training lables\n",
    "    \n",
    "    if not model:\n",
    "        model = neural_network_model(input_size = len(X[0]))\n",
    "    \n",
    "    model.fit(X, y, epochs=n_epochs)\n",
    "    return model\n",
    "\n",
    "# model.fit(train_images, train_labels, epochs=10)"
   ]
  },
  {
   "cell_type": "code",
   "execution_count": 96,
   "metadata": {},
   "outputs": [
    {
     "name": "stdout",
     "output_type": "stream",
     "text": [
      "Average accepted score: 111.3409090909091\n",
      "Median score for accepted scores: 108.0\n",
      "Counter({103.0: 5, 108.0: 4, 109.0: 3, 102.0: 3, 100.0: 3, 105.0: 3, 101.0: 3, 113.0: 3, 111.0: 2, 125.0: 1, 142.0: 1, 117.0: 1, 132.0: 1, 104.0: 1, 114.0: 1, 110.0: 1, 119.0: 1, 123.0: 1, 112.0: 1, 165.0: 1, 106.0: 1, 137.0: 1, 107.0: 1, 127.0: 1})\n"
     ]
    }
   ],
   "source": [
    "training_data = initial_population()"
   ]
  },
  {
   "cell_type": "code",
   "execution_count": 98,
   "metadata": {},
   "outputs": [
    {
     "name": "stdout",
     "output_type": "stream",
     "text": [
      "Train on 4855 samples\n",
      "Epoch 1/50\n",
      "4855/4855 [==============================] - 1s 170us/sample - loss: 0.6650 - accuracy: 0.6082\n",
      "Epoch 2/50\n",
      "4855/4855 [==============================] - 0s 100us/sample - loss: 0.6531 - accuracy: 0.6278\n",
      "Epoch 3/50\n",
      "4855/4855 [==============================] - 0s 99us/sample - loss: 0.6497 - accuracy: 0.6222\n",
      "Epoch 4/50\n",
      "4855/4855 [==============================] - 0s 100us/sample - loss: 0.6497 - accuracy: 0.6282\n",
      "Epoch 5/50\n",
      "4855/4855 [==============================] - 0s 98us/sample - loss: 0.6483 - accuracy: 0.6292\n",
      "Epoch 6/50\n",
      "4855/4855 [==============================] - 0s 99us/sample - loss: 0.6463 - accuracy: 0.6286\n",
      "Epoch 7/50\n",
      "4855/4855 [==============================] - 0s 98us/sample - loss: 0.6468 - accuracy: 0.6330\n",
      "Epoch 8/50\n",
      "4855/4855 [==============================] - 0s 99us/sample - loss: 0.6441 - accuracy: 0.6334\n",
      "Epoch 9/50\n",
      "4855/4855 [==============================] - 0s 99us/sample - loss: 0.6455 - accuracy: 0.6307\n",
      "Epoch 10/50\n",
      "4855/4855 [==============================] - 0s 99us/sample - loss: 0.6437 - accuracy: 0.6342\n",
      "Epoch 11/50\n",
      "4855/4855 [==============================] - 0s 100us/sample - loss: 0.6433 - accuracy: 0.6334\n",
      "Epoch 12/50\n",
      "4855/4855 [==============================] - 0s 103us/sample - loss: 0.6419 - accuracy: 0.6381\n",
      "Epoch 13/50\n",
      "4855/4855 [==============================] - 0s 98us/sample - loss: 0.6406 - accuracy: 0.6346\n",
      "Epoch 14/50\n",
      "4855/4855 [==============================] - 0s 103us/sample - loss: 0.6425 - accuracy: 0.6373\n",
      "Epoch 15/50\n",
      "4855/4855 [==============================] - 1s 151us/sample - loss: 0.6416 - accuracy: 0.6365 - loss: 0.6\n",
      "Epoch 16/50\n",
      "4855/4855 [==============================] - 1s 179us/sample - loss: 0.6393 - accuracy: 0.6330\n",
      "Epoch 17/50\n",
      "4855/4855 [==============================] - 1s 176us/sample - loss: 0.6408 - accuracy: 0.6313\n",
      "Epoch 18/50\n",
      "4855/4855 [==============================] - 1s 179us/sample - loss: 0.6384 - accuracy: 0.6385\n",
      "Epoch 19/50\n",
      "4855/4855 [==============================] - 1s 183us/sample - loss: 0.6362 - accuracy: 0.6393\n",
      "Epoch 20/50\n",
      "4855/4855 [==============================] - 1s 184us/sample - loss: 0.6353 - accuracy: 0.6338\n",
      "Epoch 21/50\n",
      "4855/4855 [==============================] - 1s 186us/sample - loss: 0.6371 - accuracy: 0.6346\n",
      "Epoch 22/50\n",
      "4855/4855 [==============================] - 1s 180us/sample - loss: 0.6354 - accuracy: 0.6406\n",
      "Epoch 23/50\n",
      "4855/4855 [==============================] - 1s 193us/sample - loss: 0.6339 - accuracy: 0.6391\n",
      "Epoch 24/50\n",
      "4855/4855 [==============================] - 1s 183us/sample - loss: 0.6335 - accuracy: 0.6416\n",
      "Epoch 25/50\n",
      "4855/4855 [==============================] - 1s 176us/sample - loss: 0.6327 - accuracy: 0.6439\n",
      "Epoch 26/50\n",
      "4855/4855 [==============================] - 1s 181us/sample - loss: 0.6314 - accuracy: 0.6453\n",
      "Epoch 27/50\n",
      "4855/4855 [==============================] - 1s 179us/sample - loss: 0.6322 - accuracy: 0.6441\n",
      "Epoch 28/50\n",
      "4855/4855 [==============================] - 1s 179us/sample - loss: 0.6290 - accuracy: 0.6453\n",
      "Epoch 29/50\n",
      "4855/4855 [==============================] - 1s 109us/sample - loss: 0.6324 - accuracy: 0.6430\n",
      "Epoch 30/50\n",
      "4855/4855 [==============================] - 0s 100us/sample - loss: 0.6306 - accuracy: 0.6453\n",
      "Epoch 31/50\n",
      "4855/4855 [==============================] - 0s 98us/sample - loss: 0.6307 - accuracy: 0.6455\n",
      "Epoch 32/50\n",
      "4855/4855 [==============================] - 0s 98us/sample - loss: 0.6276 - accuracy: 0.6430\n",
      "Epoch 33/50\n",
      "4855/4855 [==============================] - 0s 98us/sample - loss: 0.6313 - accuracy: 0.6428\n",
      "Epoch 34/50\n",
      "4855/4855 [==============================] - 0s 100us/sample - loss: 0.6288 - accuracy: 0.6422\n",
      "Epoch 35/50\n",
      "4855/4855 [==============================] - 0s 101us/sample - loss: 0.6284 - accuracy: 0.6498\n",
      "Epoch 36/50\n",
      "4855/4855 [==============================] - 0s 102us/sample - loss: 0.6258 - accuracy: 0.6465\n",
      "Epoch 37/50\n",
      "4855/4855 [==============================] - 1s 125us/sample - loss: 0.6250 - accuracy: 0.6492\n",
      "Epoch 38/50\n",
      "4855/4855 [==============================] - 0s 98us/sample - loss: 0.6258 - accuracy: 0.6538\n",
      "Epoch 39/50\n",
      "4855/4855 [==============================] - 0s 100us/sample - loss: 0.6245 - accuracy: 0.6507\n",
      "Epoch 40/50\n",
      "4855/4855 [==============================] - 1s 106us/sample - loss: 0.6241 - accuracy: 0.6527\n",
      "Epoch 41/50\n",
      "4855/4855 [==============================] - 1s 173us/sample - loss: 0.6224 - accuracy: 0.6550\n",
      "Epoch 42/50\n",
      "4855/4855 [==============================] - 1s 181us/sample - loss: 0.6231 - accuracy: 0.6492\n",
      "Epoch 43/50\n",
      "4855/4855 [==============================] - 1s 191us/sample - loss: 0.6211 - accuracy: 0.6554\n",
      "Epoch 44/50\n",
      "4855/4855 [==============================] - 1s 213us/sample - loss: 0.6200 - accuracy: 0.6517\n",
      "Epoch 45/50\n",
      "4855/4855 [==============================] - 1s 206us/sample - loss: 0.6199 - accuracy: 0.6560\n",
      "Epoch 46/50\n",
      "4855/4855 [==============================] - 1s 200us/sample - loss: 0.6196 - accuracy: 0.6583\n",
      "Epoch 47/50\n",
      "4855/4855 [==============================] - 1s 180us/sample - loss: 0.6215 - accuracy: 0.6482\n",
      "Epoch 48/50\n",
      "4855/4855 [==============================] - 1s 184us/sample - loss: 0.6180 - accuracy: 0.6577\n",
      "Epoch 49/50\n",
      "4855/4855 [==============================] - 1s 184us/sample - loss: 0.6156 - accuracy: 0.6585\n",
      "Epoch 50/50\n",
      "4855/4855 [==============================] - 1s 204us/sample - loss: 0.6162 - accuracy: 0.6583\n"
     ]
    }
   ],
   "source": [
    "model = train_model(training_data, n_epochs = 50) # train the model"
   ]
  },
  {
   "cell_type": "code",
   "execution_count": 111,
   "metadata": {},
   "outputs": [
    {
     "name": "stdout",
     "output_type": "stream",
     "text": [
      "DONE. Score =  200.0\n",
      "DONE. Score =  200.0\n",
      "DONE. Score =  196.0\n",
      "DONE. Score =  200.0\n",
      "DONE. Score =  200.0\n",
      "DONE. Score =  200.0\n",
      "DONE. Score =  170.0\n",
      "DONE. Score =  200.0\n",
      "DONE. Score =  185.0\n",
      "DONE. Score =  200.0\n",
      "Average Score: 195.1\n"
     ]
    }
   ],
   "source": [
    "scores = []\n",
    "choices = []\n",
    "for each_game in range(10):\n",
    "    score = 0\n",
    "    game_memory = []\n",
    "    prev_obs = env.reset()\n",
    "    for _ in range(goal_steps):\n",
    "#         env.render()\n",
    "\n",
    "        if len(prev_obs)==0:\n",
    "            action = random.randrange(0,2)\n",
    "        else:\n",
    "            action = np.argmax(model.predict(prev_obs.reshape(-1,len(prev_obs),1))[0])\n",
    "\n",
    "        choices.append(action)\n",
    "                \n",
    "        new_observation, reward, done, info = env.step(action)\n",
    "        prev_obs = new_observation\n",
    "        game_memory.append([new_observation, action])\n",
    "        score+=reward\n",
    "        if done: \n",
    "            print(\"DONE. Score = \", score)\n",
    "            break\n",
    "    env.close()\n",
    "    \n",
    "    scores.append(score)\n",
    "\n",
    "print('Average Score:',sum(scores)/len(scores))\n",
    "# print('choice 1:{}  choice 0:{}'.format(choices.count(1)/len(choices), choices.count(0)/len(choices)))\n",
    "# print(score_requirement)"
   ]
  },
  {
   "cell_type": "code",
   "execution_count": 112,
   "metadata": {},
   "outputs": [],
   "source": [
    "scores = []\n",
    "choices = []\n",
    "\n",
    "score = 0\n",
    "game_memory = []\n",
    "prev_obs = env.reset()\n"
   ]
  },
  {
   "cell_type": "code",
   "execution_count": 113,
   "metadata": {},
   "outputs": [],
   "source": [
    "if len(prev_obs)==0:\n",
    "    action = random.randrange(0,2)\n",
    "else:\n",
    "    action = np.argmax(model.predict(prev_obs.reshape(-1,len(prev_obs),1))[0])\n",
    "\n",
    "choices.append(action)\n",
    "\n",
    "new_observation, reward, done, info = env.step(action)\n",
    "prev_obs = new_observation\n",
    "# game_memory.append([new_observation, action])\n",
    "score+=reward\n",
    "# if done: \n",
    "#     print(\"DONE. Score = \", score)\n",
    "#     break\n",
    "# env.close()\n",
    "\n",
    "# scores.append(score)"
   ]
  },
  {
   "cell_type": "code",
   "execution_count": 126,
   "metadata": {},
   "outputs": [
    {
     "data": {
      "text/plain": [
       "array([0.4956295, 0.5043705], dtype=float32)"
      ]
     },
     "execution_count": 126,
     "metadata": {},
     "output_type": "execute_result"
    }
   ],
   "source": [
    "model.predict(prev_obs.reshape(-1,len(prev_obs),1))[0]"
   ]
  }
 ],
 "metadata": {
  "kernelspec": {
   "display_name": "Python 3",
   "language": "python",
   "name": "python3"
  },
  "language_info": {
   "codemirror_mode": {
    "name": "ipython",
    "version": 3
   },
   "file_extension": ".py",
   "mimetype": "text/x-python",
   "name": "python",
   "nbconvert_exporter": "python",
   "pygments_lexer": "ipython3",
   "version": "3.7.3"
  }
 },
 "nbformat": 4,
 "nbformat_minor": 2
}
