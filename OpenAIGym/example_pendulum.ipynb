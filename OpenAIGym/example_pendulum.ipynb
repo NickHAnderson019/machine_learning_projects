{
 "cells": [
  {
   "cell_type": "markdown",
   "metadata": {},
   "source": [
    "# Inverted Pendulum\n",
    "\n",
    "https://github.com/openai/gym/blob/master/gym/envs/classic_control/pendulum.py\n",
    "\n",
    "https://github.com/openai/gym/wiki/Pendulum-v0\n",
    "\n",
    "### Details\n",
    "\n",
    "Here are descriptions involved in the system.\n",
    "\n",
    "**observation (states)** - $[cos(\\theta), sin(\\theta), \\dot{\\theta}]$ (randomly selected)"
   ]
  },
  {
   "cell_type": "code",
   "execution_count": 1,
   "metadata": {},
   "outputs": [],
   "source": [
    "import gym\n",
    "import numpy as np\n",
    "import time"
   ]
  },
  {
   "cell_type": "code",
   "execution_count": 3,
   "metadata": {},
   "outputs": [],
   "source": [
    "# A quick run of the CartPole enviroment with random actions\n",
    "# prints out the observations\n",
    "env = gym.make(\"Pendulum-v0\")\n",
    "for i_episode in range(10):\n",
    "    observation = env.reset()\n",
    "    for t in range(50):\n",
    "        env.render()\n",
    "        action = env.action_space.sample()\n",
    "        next_state, reward, terminated, info = env.step(action)\n",
    "        if terminated:\n",
    "            print(\"Episode finished after {} timesteps\".format(t+1))\n",
    "            break\n",
    "env.close()"
   ]
  },
  {
   "cell_type": "markdown",
   "metadata": {},
   "source": [
    "### Q-Learning Method\n",
    "\n",
    "Let's try use the simple Q-learning method to solve the problem."
   ]
  },
  {
   "cell_type": "code",
   "execution_count": null,
   "metadata": {},
   "outputs": [],
   "source": []
  }
 ],
 "metadata": {
  "kernelspec": {
   "display_name": "Python 3",
   "language": "python",
   "name": "python3"
  }
 },
 "nbformat": 4,
 "nbformat_minor": 2
}
